{
 "cells": [
  {
   "cell_type": "markdown",
   "metadata": {},
   "source": [
    "# Lists"
   ]
  },
  {
   "cell_type": "markdown",
   "metadata": {},
   "source": [
    "## Create a List"
   ]
  },
  {
   "cell_type": "code",
   "execution_count": 1,
   "metadata": {
    "ExecuteTime": {
     "end_time": "2021-11-07T13:24:55.547945Z",
     "start_time": "2021-11-07T13:24:55.533165Z"
    }
   },
   "outputs": [],
   "source": [
    "languages = ['python','java','c','c++']"
   ]
  },
  {
   "cell_type": "markdown",
   "metadata": {},
   "source": [
    "### Print List"
   ]
  },
  {
   "cell_type": "code",
   "execution_count": 2,
   "metadata": {
    "ExecuteTime": {
     "end_time": "2021-11-07T13:24:55.564032Z",
     "start_time": "2021-11-07T13:24:55.549833Z"
    }
   },
   "outputs": [
    {
     "name": "stdout",
     "output_type": "stream",
     "text": [
      "['python', 'java', 'c', 'c++']\n"
     ]
    }
   ],
   "source": [
    "print(languages)"
   ]
  },
  {
   "cell_type": "markdown",
   "metadata": {},
   "source": [
    "### Accessing Elements"
   ]
  },
  {
   "cell_type": "code",
   "execution_count": 3,
   "metadata": {
    "ExecuteTime": {
     "end_time": "2021-11-07T13:24:55.579604Z",
     "start_time": "2021-11-07T13:24:55.566971Z"
    }
   },
   "outputs": [
    {
     "name": "stdout",
     "output_type": "stream",
     "text": [
      "python\n"
     ]
    }
   ],
   "source": [
    "languages = ['python','java','c','c++']\n",
    "print(languages[0])"
   ]
  },
  {
   "cell_type": "code",
   "execution_count": 4,
   "metadata": {
    "ExecuteTime": {
     "end_time": "2021-11-07T13:24:55.594813Z",
     "start_time": "2021-11-07T13:24:55.586116Z"
    }
   },
   "outputs": [
    {
     "name": "stdout",
     "output_type": "stream",
     "text": [
      "c++\n"
     ]
    }
   ],
   "source": [
    "print(languages[-1])"
   ]
  },
  {
   "cell_type": "code",
   "execution_count": 5,
   "metadata": {
    "ExecuteTime": {
     "end_time": "2021-11-07T13:24:55.610286Z",
     "start_time": "2021-11-07T13:24:55.600654Z"
    }
   },
   "outputs": [
    {
     "name": "stdout",
     "output_type": "stream",
     "text": [
      "Python\n"
     ]
    }
   ],
   "source": [
    "print(languages[0].title())"
   ]
  },
  {
   "cell_type": "code",
   "execution_count": 6,
   "metadata": {
    "ExecuteTime": {
     "end_time": "2021-11-07T13:24:55.626329Z",
     "start_time": "2021-11-07T13:24:55.614784Z"
    }
   },
   "outputs": [
    {
     "name": "stdout",
     "output_type": "stream",
     "text": [
      "First language in the list is Python\n"
     ]
    }
   ],
   "source": [
    "print('First language in the list is '+languages[0].title())"
   ]
  },
  {
   "cell_type": "code",
   "execution_count": 7,
   "metadata": {
    "ExecuteTime": {
     "end_time": "2021-11-07T13:24:55.641916Z",
     "start_time": "2021-11-07T13:24:55.630636Z"
    }
   },
   "outputs": [
    {
     "name": "stdout",
     "output_type": "stream",
     "text": [
      "Last language in the list is C++\n"
     ]
    }
   ],
   "source": [
    "print('Last language in the list is '+languages[-1].title())"
   ]
  },
  {
   "cell_type": "markdown",
   "metadata": {},
   "source": [
    "### Changing Elements"
   ]
  },
  {
   "cell_type": "code",
   "execution_count": 8,
   "metadata": {
    "ExecuteTime": {
     "end_time": "2021-11-07T13:24:55.658150Z",
     "start_time": "2021-11-07T13:24:55.646884Z"
    }
   },
   "outputs": [
    {
     "name": "stdout",
     "output_type": "stream",
     "text": [
      "['python', 'java', 'c', 'c++']\n"
     ]
    }
   ],
   "source": [
    "print(languages)"
   ]
  },
  {
   "cell_type": "code",
   "execution_count": 9,
   "metadata": {
    "ExecuteTime": {
     "end_time": "2021-11-07T13:24:55.673121Z",
     "start_time": "2021-11-07T13:24:55.663304Z"
    }
   },
   "outputs": [
    {
     "name": "stdout",
     "output_type": "stream",
     "text": [
      "['python', 'javascript', 'c', 'c++']\n"
     ]
    }
   ],
   "source": [
    "languages[1] = 'javascript'\n",
    "print(languages)"
   ]
  },
  {
   "cell_type": "markdown",
   "metadata": {},
   "source": [
    "### Adding Elements"
   ]
  },
  {
   "cell_type": "code",
   "execution_count": 10,
   "metadata": {
    "ExecuteTime": {
     "end_time": "2021-11-07T13:24:55.688754Z",
     "start_time": "2021-11-07T13:24:55.676902Z"
    }
   },
   "outputs": [
    {
     "name": "stdout",
     "output_type": "stream",
     "text": [
      "['python', 'javascript', 'c', 'c++']\n"
     ]
    }
   ],
   "source": [
    "print(languages)"
   ]
  },
  {
   "cell_type": "code",
   "execution_count": 11,
   "metadata": {
    "ExecuteTime": {
     "end_time": "2021-11-07T13:24:55.704218Z",
     "start_time": "2021-11-07T13:24:55.693410Z"
    }
   },
   "outputs": [
    {
     "name": "stdout",
     "output_type": "stream",
     "text": [
      "['python', 'javascript', 'c', 'c++', 'java']\n"
     ]
    }
   ],
   "source": [
    "languages.append('java')\n",
    "print(languages)"
   ]
  },
  {
   "cell_type": "markdown",
   "metadata": {},
   "source": [
    "### Inserting Elements"
   ]
  },
  {
   "cell_type": "code",
   "execution_count": 12,
   "metadata": {
    "ExecuteTime": {
     "end_time": "2021-11-07T13:24:55.719380Z",
     "start_time": "2021-11-07T13:24:55.709366Z"
    }
   },
   "outputs": [
    {
     "name": "stdout",
     "output_type": "stream",
     "text": [
      "['python', 'javascript', 'c', 'c++', 'java']\n"
     ]
    }
   ],
   "source": [
    "print(languages)"
   ]
  },
  {
   "cell_type": "code",
   "execution_count": 13,
   "metadata": {
    "ExecuteTime": {
     "end_time": "2021-11-07T13:24:55.735560Z",
     "start_time": "2021-11-07T13:24:55.728123Z"
    }
   },
   "outputs": [
    {
     "name": "stdout",
     "output_type": "stream",
     "text": [
      "['python', 'swift', 'javascript', 'c', 'c++', 'java']\n"
     ]
    }
   ],
   "source": [
    "languages.insert(1,'swift')\n",
    "print(languages)"
   ]
  },
  {
   "cell_type": "markdown",
   "metadata": {},
   "source": [
    "### Deleting Elements"
   ]
  },
  {
   "cell_type": "code",
   "execution_count": 14,
   "metadata": {
    "ExecuteTime": {
     "end_time": "2021-11-07T13:24:55.751487Z",
     "start_time": "2021-11-07T13:24:55.739932Z"
    }
   },
   "outputs": [
    {
     "name": "stdout",
     "output_type": "stream",
     "text": [
      "['python', 'swift', 'javascript', 'c', 'c++', 'java']\n"
     ]
    }
   ],
   "source": [
    "print(languages)"
   ]
  },
  {
   "cell_type": "code",
   "execution_count": 15,
   "metadata": {
    "ExecuteTime": {
     "end_time": "2021-11-07T13:24:55.767296Z",
     "start_time": "2021-11-07T13:24:55.755706Z"
    }
   },
   "outputs": [
    {
     "name": "stdout",
     "output_type": "stream",
     "text": [
      "['python', 'swift', 'javascript', 'c', 'c++']\n"
     ]
    }
   ],
   "source": [
    "del languages[-1]\n",
    "print(languages)"
   ]
  },
  {
   "cell_type": "markdown",
   "metadata": {},
   "source": [
    "### Removing Elements"
   ]
  },
  {
   "cell_type": "code",
   "execution_count": 16,
   "metadata": {
    "ExecuteTime": {
     "end_time": "2021-11-07T13:24:55.782515Z",
     "start_time": "2021-11-07T13:24:55.769290Z"
    }
   },
   "outputs": [
    {
     "name": "stdout",
     "output_type": "stream",
     "text": [
      "['python', 'swift', 'javascript', 'c', 'c++']\n"
     ]
    }
   ],
   "source": [
    "print(languages)"
   ]
  },
  {
   "cell_type": "code",
   "execution_count": 17,
   "metadata": {
    "ExecuteTime": {
     "end_time": "2021-11-07T13:24:55.797582Z",
     "start_time": "2021-11-07T13:24:55.786587Z"
    }
   },
   "outputs": [
    {
     "name": "stdout",
     "output_type": "stream",
     "text": [
      "c++\n"
     ]
    }
   ],
   "source": [
    "print(languages.pop())"
   ]
  },
  {
   "cell_type": "code",
   "execution_count": 18,
   "metadata": {
    "ExecuteTime": {
     "end_time": "2021-11-07T13:24:55.812947Z",
     "start_time": "2021-11-07T13:24:55.799581Z"
    }
   },
   "outputs": [
    {
     "name": "stdout",
     "output_type": "stream",
     "text": [
      "['python', 'swift', 'javascript', 'c']\n"
     ]
    }
   ],
   "source": [
    "print(languages)"
   ]
  },
  {
   "cell_type": "markdown",
   "metadata": {},
   "source": [
    "### Removing Elements by Value"
   ]
  },
  {
   "cell_type": "code",
   "execution_count": 19,
   "metadata": {
    "ExecuteTime": {
     "end_time": "2021-11-07T13:24:55.830420Z",
     "start_time": "2021-11-07T13:24:55.815866Z"
    }
   },
   "outputs": [
    {
     "name": "stdout",
     "output_type": "stream",
     "text": [
      "['python', 'swift', 'javascript', 'c']\n"
     ]
    }
   ],
   "source": [
    "print(languages)"
   ]
  },
  {
   "cell_type": "code",
   "execution_count": 20,
   "metadata": {
    "ExecuteTime": {
     "end_time": "2021-11-07T13:24:55.844324Z",
     "start_time": "2021-11-07T13:24:55.833421Z"
    }
   },
   "outputs": [
    {
     "name": "stdout",
     "output_type": "stream",
     "text": [
      "['python', 'javascript', 'c']\n"
     ]
    }
   ],
   "source": [
    "languages.remove('swift')\n",
    "print(languages)"
   ]
  },
  {
   "cell_type": "markdown",
   "metadata": {},
   "source": [
    "## Sorting Elements "
   ]
  },
  {
   "cell_type": "markdown",
   "metadata": {},
   "source": [
    "### Permanently Sorting"
   ]
  },
  {
   "cell_type": "code",
   "execution_count": 21,
   "metadata": {
    "ExecuteTime": {
     "end_time": "2021-11-07T13:24:55.860261Z",
     "start_time": "2021-11-07T13:24:55.846428Z"
    }
   },
   "outputs": [
    {
     "name": "stdout",
     "output_type": "stream",
     "text": [
      "['india', 'japan', 'usa', 'south africa', 'china']\n"
     ]
    }
   ],
   "source": [
    "countries = ['india','japan','usa','south africa','china']\n",
    "print(countries)"
   ]
  },
  {
   "cell_type": "code",
   "execution_count": 22,
   "metadata": {
    "ExecuteTime": {
     "end_time": "2021-11-07T13:24:55.875967Z",
     "start_time": "2021-11-07T13:24:55.863335Z"
    }
   },
   "outputs": [
    {
     "name": "stdout",
     "output_type": "stream",
     "text": [
      "['china', 'india', 'japan', 'south africa', 'usa']\n"
     ]
    }
   ],
   "source": [
    "countries.sort()\n",
    "print(countries)"
   ]
  },
  {
   "cell_type": "code",
   "execution_count": 23,
   "metadata": {
    "ExecuteTime": {
     "end_time": "2021-11-07T13:24:55.891922Z",
     "start_time": "2021-11-07T13:24:55.880479Z"
    }
   },
   "outputs": [
    {
     "name": "stdout",
     "output_type": "stream",
     "text": [
      "['china', 'india', 'japan', 'south africa', 'usa']\n"
     ]
    }
   ],
   "source": [
    "print(countries)"
   ]
  },
  {
   "cell_type": "markdown",
   "metadata": {},
   "source": [
    "### Temporarily Sorting"
   ]
  },
  {
   "cell_type": "code",
   "execution_count": 24,
   "metadata": {
    "ExecuteTime": {
     "end_time": "2021-11-07T13:24:55.907297Z",
     "start_time": "2021-11-07T13:24:55.897187Z"
    }
   },
   "outputs": [
    {
     "name": "stdout",
     "output_type": "stream",
     "text": [
      "['tcs', 'reliance', 'google', 'facebook']\n"
     ]
    }
   ],
   "source": [
    "companies = ['tcs','reliance','google','facebook']\n",
    "print(companies)"
   ]
  },
  {
   "cell_type": "code",
   "execution_count": 25,
   "metadata": {
    "ExecuteTime": {
     "end_time": "2021-11-07T13:24:55.923353Z",
     "start_time": "2021-11-07T13:24:55.910645Z"
    }
   },
   "outputs": [
    {
     "name": "stdout",
     "output_type": "stream",
     "text": [
      "['facebook', 'google', 'reliance', 'tcs']\n"
     ]
    }
   ],
   "source": [
    "print(sorted(companies))"
   ]
  },
  {
   "cell_type": "code",
   "execution_count": 26,
   "metadata": {
    "ExecuteTime": {
     "end_time": "2021-11-07T13:24:55.938667Z",
     "start_time": "2021-11-07T13:24:55.926348Z"
    }
   },
   "outputs": [
    {
     "name": "stdout",
     "output_type": "stream",
     "text": [
      "['tcs', 'reliance', 'google', 'facebook']\n"
     ]
    }
   ],
   "source": [
    "print(companies)"
   ]
  },
  {
   "cell_type": "markdown",
   "metadata": {},
   "source": [
    "### Reverse Order"
   ]
  },
  {
   "cell_type": "code",
   "execution_count": 27,
   "metadata": {
    "ExecuteTime": {
     "end_time": "2021-11-07T13:24:55.953332Z",
     "start_time": "2021-11-07T13:24:55.943757Z"
    }
   },
   "outputs": [
    {
     "name": "stdout",
     "output_type": "stream",
     "text": [
      "['tcs', 'reliance', 'google', 'facebook']\n"
     ]
    }
   ],
   "source": [
    "print(companies)"
   ]
  },
  {
   "cell_type": "code",
   "execution_count": 28,
   "metadata": {
    "ExecuteTime": {
     "end_time": "2021-11-07T13:24:55.968545Z",
     "start_time": "2021-11-07T13:24:55.958129Z"
    }
   },
   "outputs": [
    {
     "name": "stdout",
     "output_type": "stream",
     "text": [
      "['tcs', 'reliance', 'google', 'facebook']\n"
     ]
    }
   ],
   "source": [
    "countries.reverse()\n",
    "print(companies)"
   ]
  },
  {
   "cell_type": "markdown",
   "metadata": {},
   "source": [
    "### Length of List"
   ]
  },
  {
   "cell_type": "code",
   "execution_count": 29,
   "metadata": {
    "ExecuteTime": {
     "end_time": "2021-11-07T13:24:55.984611Z",
     "start_time": "2021-11-07T13:24:55.973369Z"
    }
   },
   "outputs": [
    {
     "name": "stdout",
     "output_type": "stream",
     "text": [
      "['tcs', 'reliance', 'google', 'facebook']\n"
     ]
    }
   ],
   "source": [
    "print(companies)"
   ]
  },
  {
   "cell_type": "code",
   "execution_count": 30,
   "metadata": {
    "ExecuteTime": {
     "end_time": "2021-11-07T13:24:56.000566Z",
     "start_time": "2021-11-07T13:24:55.987074Z"
    }
   },
   "outputs": [
    {
     "name": "stdout",
     "output_type": "stream",
     "text": [
      "4\n"
     ]
    }
   ],
   "source": [
    "print(len(companies))"
   ]
  }
 ],
 "metadata": {
  "kernelspec": {
   "display_name": "Python 3",
   "language": "python",
   "name": "python3"
  },
  "language_info": {
   "codemirror_mode": {
    "name": "ipython",
    "version": 3
   },
   "file_extension": ".py",
   "mimetype": "text/x-python",
   "name": "python",
   "nbconvert_exporter": "python",
   "pygments_lexer": "ipython3",
   "version": "3.8.5"
  }
 },
 "nbformat": 4,
 "nbformat_minor": 4
}
