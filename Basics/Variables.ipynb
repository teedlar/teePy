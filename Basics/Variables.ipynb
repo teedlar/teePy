{
 "cells": [
  {
   "cell_type": "markdown",
   "metadata": {},
   "source": [
    "# teePy"
   ]
  },
  {
   "cell_type": "markdown",
   "metadata": {},
   "source": [
    "## Variables"
   ]
  },
  {
   "cell_type": "markdown",
   "metadata": {},
   "source": [
    "### #Day2"
   ]
  },
  {
   "cell_type": "markdown",
   "metadata": {},
   "source": [
    "#### declaring a variable"
   ]
  },
  {
   "cell_type": "code",
   "execution_count": 1,
   "metadata": {
    "ExecuteTime": {
     "end_time": "2021-10-21T09:40:25.465158Z",
     "start_time": "2021-10-21T09:40:25.454222Z"
    }
   },
   "outputs": [],
   "source": [
    "teepy = \"Hello World\""
   ]
  },
  {
   "cell_type": "markdown",
   "metadata": {},
   "source": [
    "#### print"
   ]
  },
  {
   "cell_type": "code",
   "execution_count": 2,
   "metadata": {
    "ExecuteTime": {
     "end_time": "2021-10-21T09:40:25.480188Z",
     "start_time": "2021-10-21T09:40:25.467159Z"
    }
   },
   "outputs": [
    {
     "name": "stdout",
     "output_type": "stream",
     "text": [
      "Hello World\n"
     ]
    }
   ],
   "source": [
    "print(teepy)"
   ]
  },
  {
   "cell_type": "markdown",
   "metadata": {},
   "source": [
    "#### Strings"
   ]
  },
  {
   "cell_type": "markdown",
   "metadata": {},
   "source": [
    "#### in python both can be used"
   ]
  },
  {
   "cell_type": "code",
   "execution_count": 3,
   "metadata": {
    "ExecuteTime": {
     "end_time": "2021-10-21T09:40:25.495157Z",
     "start_time": "2021-10-21T09:40:25.482158Z"
    }
   },
   "outputs": [],
   "source": [
    "word = \"teePy\""
   ]
  },
  {
   "cell_type": "code",
   "execution_count": 4,
   "metadata": {
    "ExecuteTime": {
     "end_time": "2021-10-21T09:40:25.511158Z",
     "start_time": "2021-10-21T09:40:25.497158Z"
    }
   },
   "outputs": [
    {
     "name": "stdout",
     "output_type": "stream",
     "text": [
      "teePy\n"
     ]
    }
   ],
   "source": [
    "print(word)"
   ]
  },
  {
   "cell_type": "code",
   "execution_count": 5,
   "metadata": {
    "ExecuteTime": {
     "end_time": "2021-10-21T09:40:25.527200Z",
     "start_time": "2021-10-21T09:40:25.513158Z"
    }
   },
   "outputs": [],
   "source": [
    "word2 = 'teePy'"
   ]
  },
  {
   "cell_type": "code",
   "execution_count": 6,
   "metadata": {
    "ExecuteTime": {
     "end_time": "2021-10-21T09:40:25.543261Z",
     "start_time": "2021-10-21T09:40:25.529159Z"
    }
   },
   "outputs": [
    {
     "name": "stdout",
     "output_type": "stream",
     "text": [
      "teePy\n"
     ]
    }
   ],
   "source": [
    "print(word2)"
   ]
  },
  {
   "cell_type": "markdown",
   "metadata": {},
   "source": [
    "#### title"
   ]
  },
  {
   "cell_type": "code",
   "execution_count": 7,
   "metadata": {
    "ExecuteTime": {
     "end_time": "2021-10-21T09:40:25.558505Z",
     "start_time": "2021-10-21T09:40:25.544787Z"
    }
   },
   "outputs": [
    {
     "name": "stdout",
     "output_type": "stream",
     "text": [
      "teePy\n"
     ]
    }
   ],
   "source": [
    "word = \"teePy\"\n",
    "print(word)"
   ]
  },
  {
   "cell_type": "code",
   "execution_count": 8,
   "metadata": {
    "ExecuteTime": {
     "end_time": "2021-10-21T09:40:25.573635Z",
     "start_time": "2021-10-21T09:40:25.561530Z"
    }
   },
   "outputs": [
    {
     "name": "stdout",
     "output_type": "stream",
     "text": [
      "Teepy\n"
     ]
    }
   ],
   "source": [
    "print(word.title())"
   ]
  },
  {
   "cell_type": "markdown",
   "metadata": {},
   "source": [
    "#### Upper"
   ]
  },
  {
   "cell_type": "code",
   "execution_count": 9,
   "metadata": {
    "ExecuteTime": {
     "end_time": "2021-10-21T09:40:25.588302Z",
     "start_time": "2021-10-21T09:40:25.575672Z"
    }
   },
   "outputs": [
    {
     "name": "stdout",
     "output_type": "stream",
     "text": [
      "teePy\n"
     ]
    }
   ],
   "source": [
    "word = \"teePy\"\n",
    "print(word)"
   ]
  },
  {
   "cell_type": "code",
   "execution_count": 10,
   "metadata": {
    "ExecuteTime": {
     "end_time": "2021-10-21T09:40:25.604302Z",
     "start_time": "2021-10-21T09:40:25.591349Z"
    }
   },
   "outputs": [
    {
     "name": "stdout",
     "output_type": "stream",
     "text": [
      "TEEPY\n"
     ]
    }
   ],
   "source": [
    "print(word.upper())"
   ]
  },
  {
   "cell_type": "markdown",
   "metadata": {},
   "source": [
    "#### Lower"
   ]
  },
  {
   "cell_type": "code",
   "execution_count": 11,
   "metadata": {
    "ExecuteTime": {
     "end_time": "2021-10-21T09:40:25.619433Z",
     "start_time": "2021-10-21T09:40:25.606303Z"
    }
   },
   "outputs": [
    {
     "name": "stdout",
     "output_type": "stream",
     "text": [
      "teePy\n"
     ]
    }
   ],
   "source": [
    "word = \"teePy\"\n",
    "print(word)"
   ]
  },
  {
   "cell_type": "code",
   "execution_count": 12,
   "metadata": {
    "ExecuteTime": {
     "end_time": "2021-10-21T09:40:25.635458Z",
     "start_time": "2021-10-21T09:40:25.621430Z"
    }
   },
   "outputs": [
    {
     "name": "stdout",
     "output_type": "stream",
     "text": [
      "teepy\n"
     ]
    }
   ],
   "source": [
    "print(word.lower())"
   ]
  },
  {
   "cell_type": "markdown",
   "metadata": {},
   "source": [
    "#### Combining Strings"
   ]
  },
  {
   "cell_type": "code",
   "execution_count": 13,
   "metadata": {
    "ExecuteTime": {
     "end_time": "2021-10-21T09:40:25.650664Z",
     "start_time": "2021-10-21T09:40:25.637464Z"
    }
   },
   "outputs": [],
   "source": [
    "first_name = 'py'  #first name\n",
    "last_name = 'teedlar'  #last name \n",
    "full_name = first_name +' '+last_name   #first name--space--last name "
   ]
  },
  {
   "cell_type": "markdown",
   "metadata": {},
   "source": [
    "#### printing words + variables"
   ]
  },
  {
   "cell_type": "code",
   "execution_count": 14,
   "metadata": {
    "ExecuteTime": {
     "end_time": "2021-10-21T09:40:25.665843Z",
     "start_time": "2021-10-21T09:40:25.653603Z"
    }
   },
   "outputs": [
    {
     "name": "stdout",
     "output_type": "stream",
     "text": [
      "Welcome to py teedlar !\n"
     ]
    }
   ],
   "source": [
    "print('Welcome to ' + full_name +' !')"
   ]
  },
  {
   "cell_type": "markdown",
   "metadata": {},
   "source": [
    "#### using title"
   ]
  },
  {
   "cell_type": "code",
   "execution_count": 15,
   "metadata": {
    "ExecuteTime": {
     "end_time": "2021-10-21T09:40:25.681905Z",
     "start_time": "2021-10-21T09:40:25.667848Z"
    }
   },
   "outputs": [
    {
     "name": "stdout",
     "output_type": "stream",
     "text": [
      "Welcome to Py Teedlar !\n"
     ]
    }
   ],
   "source": [
    "print('Welcome to ' + full_name.title() +' !')"
   ]
  },
  {
   "cell_type": "markdown",
   "metadata": {},
   "source": [
    "### or"
   ]
  },
  {
   "cell_type": "code",
   "execution_count": 16,
   "metadata": {
    "ExecuteTime": {
     "end_time": "2021-10-21T09:40:25.697264Z",
     "start_time": "2021-10-21T09:40:25.683846Z"
    }
   },
   "outputs": [],
   "source": [
    "first_name = 'py'  #first name\n",
    "last_name = 'teedlar'  #last name \n",
    "full_name = first_name +' '+last_name   #first name--space--last name \n",
    "show = 'Welcome to ' + full_name.title() +' !'"
   ]
  },
  {
   "cell_type": "code",
   "execution_count": 17,
   "metadata": {
    "ExecuteTime": {
     "end_time": "2021-10-21T09:40:25.712868Z",
     "start_time": "2021-10-21T09:40:25.698404Z"
    }
   },
   "outputs": [
    {
     "name": "stdout",
     "output_type": "stream",
     "text": [
      "Welcome to Py Teedlar !\n"
     ]
    }
   ],
   "source": [
    "print(show)"
   ]
  },
  {
   "cell_type": "markdown",
   "metadata": {},
   "source": [
    "### Adding WhiteSpaces"
   ]
  },
  {
   "cell_type": "code",
   "execution_count": 3,
   "metadata": {
    "ExecuteTime": {
     "end_time": "2021-10-25T12:16:05.362827Z",
     "start_time": "2021-10-25T12:16:05.339508Z"
    }
   },
   "outputs": [
    {
     "name": "stdout",
     "output_type": "stream",
     "text": [
      "teePy\n",
      "\tteePy\n",
      "\n",
      "teePy\n"
     ]
    }
   ],
   "source": [
    "print('teePy')\n",
    "print('\\tteePy')\n",
    "print('\\nteePy')"
   ]
  },
  {
   "cell_type": "code",
   "execution_count": 11,
   "metadata": {
    "ExecuteTime": {
     "end_time": "2021-10-25T12:24:59.280520Z",
     "start_time": "2021-10-25T12:24:59.263860Z"
    }
   },
   "outputs": [
    {
     "name": "stdout",
     "output_type": "stream",
     "text": [
      "teePy\n",
      "\tBasics\n",
      "\t\tHello World.ipynb\n",
      "\t\tVariables.ipynb\n",
      "\n",
      "\tContent.ipynb\n",
      "\tREADME.md\n"
     ]
    }
   ],
   "source": [
    "print('teePy\\n\\tBasics\\n\\t\\tHello World.ipynb\\n\\t\\tVariables.ipynb\\n\\n\\tContent.ipynb\\n\\tREADME.md')"
   ]
  },
  {
   "cell_type": "markdown",
   "metadata": {},
   "source": [
    "### Stripping WhiteSpaces"
   ]
  },
  {
   "cell_type": "code",
   "execution_count": 14,
   "metadata": {
    "ExecuteTime": {
     "end_time": "2021-10-25T12:27:43.941142Z",
     "start_time": "2021-10-25T12:27:43.925092Z"
    }
   },
   "outputs": [
    {
     "name": "stdout",
     "output_type": "stream",
     "text": [
      "pyteedlar\n"
     ]
    }
   ],
   "source": [
    "instaid = 'pyteedlar    '\n",
    "print(instaid.rstrip())"
   ]
  },
  {
   "cell_type": "code",
   "execution_count": 15,
   "metadata": {
    "ExecuteTime": {
     "end_time": "2021-10-25T12:28:19.562580Z",
     "start_time": "2021-10-25T12:28:19.539046Z"
    }
   },
   "outputs": [
    {
     "name": "stdout",
     "output_type": "stream",
     "text": [
      "pyteedlar\n"
     ]
    }
   ],
   "source": [
    "instaid = '    pyteedlar'\n",
    "print(instaid.lstrip())"
   ]
  },
  {
   "cell_type": "code",
   "execution_count": 16,
   "metadata": {
    "ExecuteTime": {
     "end_time": "2021-10-25T12:29:50.464244Z",
     "start_time": "2021-10-25T12:29:50.440187Z"
    }
   },
   "outputs": [
    {
     "name": "stdout",
     "output_type": "stream",
     "text": [
      "pyteedlar\n"
     ]
    }
   ],
   "source": [
    "instaid = '    pyteedlar    '\n",
    "print(instaid.strip())"
   ]
  }
 ],
 "metadata": {
  "kernelspec": {
   "display_name": "Python 3",
   "language": "python",
   "name": "python3"
  },
  "language_info": {
   "codemirror_mode": {
    "name": "ipython",
    "version": 3
   },
   "file_extension": ".py",
   "mimetype": "text/x-python",
   "name": "python",
   "nbconvert_exporter": "python",
   "pygments_lexer": "ipython3",
   "version": "3.8.5"
  }
 },
 "nbformat": 4,
 "nbformat_minor": 4
}
